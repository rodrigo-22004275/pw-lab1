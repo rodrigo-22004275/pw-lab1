{
 "cells": [
  {
   "cell_type": "code",
   "execution_count": null,
   "id": "f889728e",
   "metadata": {},
   "outputs": [],
   "source": [
    "from matplotlib import pyplot as plt\n",
    "\n",
    "def desenha_grafico_resultados():\n",
    "    participantes = [\n",
    "        {\"nome\": \"Pessoa 1\", \"pontuacao\": \"4\"},\n",
    "        {\"nome\": \"Pessoa 2\", \"pontuacao\": \"7\"},\n",
    "        {\"nome\": \"Pessoa 3\", \"pontuacao\": \"4\"},\n",
    "        {\"nome\": \"Pessoa 4\", \"pontuacao\": \"0\"},\n",
    "        {\"nome\": \"Pessoa 5\", \"pontuacao\": \"10\"}\n",
    "    ].sort()\n",
    "    \n",
    "    nomes = []\n",
    "    pontuacoes = []\n",
    "    \n",
    "    for pt in participantes:\n",
    "        nomes.append(pt[\"nome\"])\n",
    "        pontuacoes.append(pt[\"pontuacao\"])\n",
    "    \n",
    "    nomes.reverse()\n",
    "    pontuacoes.reverse()\n",
    "    plt.barh(pontuacoes, nomes)\n",
    "    plt.show()\n"
   ]
  }
 ],
 "metadata": {
  "kernelspec": {
   "display_name": "Python 3 (ipykernel)",
   "language": "python",
   "name": "python3"
  },
  "language_info": {
   "codemirror_mode": {
    "name": "ipython",
    "version": 3
   },
   "file_extension": ".py",
   "mimetype": "text/x-python",
   "name": "python",
   "nbconvert_exporter": "python",
   "pygments_lexer": "ipython3",
   "version": "3.10.4"
  }
 },
 "nbformat": 4,
 "nbformat_minor": 5
}
